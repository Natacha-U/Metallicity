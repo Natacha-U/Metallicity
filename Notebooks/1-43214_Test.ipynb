{
 "cells": [
  {
   "cell_type": "code",
   "execution_count": 1,
   "id": "three-carroll",
   "metadata": {},
   "outputs": [],
   "source": [
    "import numpy as np\n",
    "import matplotlib.pyplot as plt\n",
    "from astropy.io import fits\n",
    "from matplotlib import cm\n",
    "from io import StringIO\n",
    "import pandas as pd"
   ]
  },
  {
   "cell_type": "code",
   "execution_count": 2,
   "id": "spread-porter",
   "metadata": {},
   "outputs": [],
   "source": [
    "mangaid = '1-43214'\n",
    "nsa_z = 0.117997\n",
    "plateifu = '8135-1902'"
   ]
  },
  {
   "cell_type": "code",
   "execution_count": 3,
   "id": "after-sustainability",
   "metadata": {},
   "outputs": [],
   "source": [
    "# open the file\n",
    "data = fits.open('/Users/natachaupra/Downloads/manga-8135-1902-LOGCUBE.fits.gz')"
   ]
  },
  {
   "cell_type": "code",
   "execution_count": 4,
   "id": "juvenile-leadership",
   "metadata": {},
   "outputs": [],
   "source": [
    "# retrieve the flux density values\n",
    "flux = np.transpose(data['FLUX'].data, axes = (2, 1, 0))\n",
    "\n",
    "# retrieve the ivar values\n",
    "ivar = np.transpose(data['IVAR'].data, axes = (2, 1, 0))\n",
    "\n",
    "# retrieve the mask values \n",
    "mask = np.transpose(data['MASK'].data, axes = (2, 1, 0))"
   ]
  },
  {
   "cell_type": "code",
   "execution_count": 5,
   "id": "protecting-commander",
   "metadata": {},
   "outputs": [],
   "source": [
    "do_not_use = (mask & 2**10) != 0 "
   ]
  },
  {
   "cell_type": "code",
   "execution_count": 6,
   "id": "eight-washington",
   "metadata": {},
   "outputs": [],
   "source": [
    "wave = data['WAVE'].data"
   ]
  },
  {
   "cell_type": "code",
   "execution_count": 7,
   "id": "following-conclusion",
   "metadata": {},
   "outputs": [],
   "source": [
    "# sum flux density values element wise to get total flux density\n",
    "n = len(flux)\n",
    "sumflux = np.zeros(4563)\n",
    "    \n",
    "for i in range(n):\n",
    "    for j in range(n):\n",
    "        flux[i,j] = flux[i,j] * ~do_not_use[i,j]\n",
    "        sumflux = np.add(sumflux, flux[i,j])"
   ]
  },
  {
   "cell_type": "code",
   "execution_count": 8,
   "id": "affiliated-department",
   "metadata": {},
   "outputs": [],
   "source": [
    "start = 5575\n",
    "end = 5650\n",
    "# start = 5500\n",
    "# end = 5700\n",
    "height = 1000"
   ]
  },
  {
   "cell_type": "code",
   "execution_count": 9,
   "id": "beginning-submission",
   "metadata": {},
   "outputs": [
    {
     "name": "stdout",
     "output_type": "stream",
     "text": [
      "[1880 1881 1882 1883 1884 1885 1886 1887 1888 1889 1890 1891 1892 1893\n",
      " 1894 1895 1896 1897 1898 1899 1900 1901 1902 1903 1904 1905]\n",
      "26\n"
     ]
    }
   ],
   "source": [
    "# select peak region\n",
    "yaxis = np.where(np.logical_and(wave > start, wave < end))[0]\n",
    "# print(yaxis)\n",
    "    \n",
    "yaxis = yaxis[6:32]\n",
    "\n",
    "print(yaxis)\n",
    "print(len(yaxis))"
   ]
  },
  {
   "cell_type": "code",
   "execution_count": 10,
   "id": "statistical-commercial",
   "metadata": {},
   "outputs": [
    {
     "data": {
      "text/plain": [
       "(1156, 26, 1156)"
      ]
     },
     "execution_count": 10,
     "metadata": {},
     "output_type": "execute_result"
    }
   ],
   "source": [
    "flux_compare = [] \n",
    "ivar_compare = []\n",
    "mask_compare = []\n",
    "\n",
    "for i in yaxis:\n",
    "    flux_compare.append(flux[:,:,i].flatten())\n",
    "    ivar_compare.append(ivar[:,:,i].flatten())\n",
    "    mask_compare.append(do_not_use[:,:,i].flatten())\n",
    "\n",
    "flux_compare = np.array(flux_compare)\n",
    "ivar_compare = np.array(ivar_compare)\n",
    "mask_compare = np.array(mask_compare)\n",
    "\n",
    "len(flux_compare[0]), len(ivar_compare), len(mask_compare[0])"
   ]
  },
  {
   "cell_type": "code",
   "execution_count": 11,
   "id": "heated-bicycle",
   "metadata": {},
   "outputs": [],
   "source": [
    "result = []\n",
    "sumresult = []\n",
    "\n",
    "for i in range(len(yaxis)):\n",
    "    for j in range(len(flux)**2):\n",
    "        flux_compare_masked = flux_compare[i] * ~mask_compare[i]\n",
    "        if flux_compare[i][j] != flux_compare_masked[j]:\n",
    "            print('something')\n",
    "        # To mask flux_compare by multiplying to the whole mask array. So use i only.\n",
    "        \n",
    "        sigma = np.sqrt(1 / ivar_compare[i][j]) if ivar_compare[i][j] != 0 else 0\n",
    "        \n",
    "        # Have to mask flux compare -- but mask before or after comparing with sigma ? \n",
    "        # My guess = mask first.\n",
    "        \n",
    "        if flux_compare_masked[j] < (3 * sigma):\n",
    "            \n",
    "            result.append(0)\n",
    "        else:\n",
    "            result.append(flux_compare_masked[j])\n",
    "    sumresult.append(np.sum(result))\n",
    "    result = []\n",
    "    \n",
    "    #True True .... True True"
   ]
  },
  {
   "cell_type": "code",
   "execution_count": 12,
   "id": "short-volleyball",
   "metadata": {},
   "outputs": [
    {
     "data": {
      "text/plain": [
       "182.81499693356454"
      ]
     },
     "execution_count": 12,
     "metadata": {},
     "output_type": "execute_result"
    }
   ],
   "source": [
    "index = 0\n",
    "sumresult[index]"
   ]
  },
  {
   "cell_type": "code",
   "execution_count": 13,
   "id": "sticky-excess",
   "metadata": {},
   "outputs": [],
   "source": [
    "# check the redhsift\n",
    "a = 5007 * (1 + nsa_z)"
   ]
  },
  {
   "cell_type": "code",
   "execution_count": 14,
   "id": "convinced-slave",
   "metadata": {},
   "outputs": [],
   "source": [
    "threshold = 201.87"
   ]
  },
  {
   "cell_type": "code",
   "execution_count": 16,
   "id": "approved-spelling",
   "metadata": {},
   "outputs": [
    {
     "data": {
      "text/plain": [
       "<matplotlib.lines.Line2D at 0x7fc309a31ed0>"
      ]
     },
     "execution_count": 16,
     "metadata": {},
     "output_type": "execute_result"
    },
    {
     "data": {
      "image/png": "[encoded data removed]",
      "text/plain": [
       "<Figure size 864x432 with 1 Axes>"
      ]
     },
     "metadata": {
      "needs_background": "light"
     },
     "output_type": "display_data"
    }
   ],
   "source": [
    "plt.figure(figsize = (12,6))\n",
    "plt.grid()\n",
    "plt.ylim(100, 700)\n",
    "plt.xlabel('Observed Wavelength ' + r'[$\\AA$]')\n",
    "plt.ylabel('Flux Density [1E-17 erg/sec/'+r'$cm^2$/'+r'$\\AA$]')\n",
    "plt.title('MaNGA ID = ' + mangaid)\n",
    "plt.scatter(wave[yaxis[0] : yaxis[-1] + 1], sumresult, color = 'cornflowerblue', marker =\"o\")\n",
    "\n",
    "plt.xlim(5580,5620)\n",
    "plt.axhline(threshold)\n",
    "\n",
    "# plt.savefig('Images/WholeFlux_{}'.format(mangaid), bbox_inches = 'tight')"
   ]
  },
  {
   "cell_type": "code",
   "execution_count": 17,
   "id": "recognized-needle",
   "metadata": {},
   "outputs": [
    {
     "data": {
      "text/plain": [
       "(array([1878, 1879, 1880, 1881]),)"
      ]
     },
     "execution_count": 17,
     "metadata": {},
     "output_type": "execute_result"
    }
   ],
   "source": [
    "index_left = np.where((wave > 5580) & (wave < 5585))\n",
    "index_left #1881"
   ]
  },
  {
   "cell_type": "code",
   "execution_count": 18,
   "id": "sufficient-lindsay",
   "metadata": {},
   "outputs": [
    {
     "data": {
      "text/plain": [
       "(array([1901, 1902, 1903, 1904]),)"
      ]
     },
     "execution_count": 18,
     "metadata": {},
     "output_type": "execute_result"
    }
   ],
   "source": [
    "index_right = np.where((wave > 5610) & (wave < 5615))\n",
    "index_right #1902"
   ]
  },
  {
   "cell_type": "code",
   "execution_count": 19,
   "id": "functioning-costume",
   "metadata": {},
   "outputs": [
    {
     "data": {
      "text/plain": [
       "<matplotlib.collections.PathCollection at 0x7fc2e9f90cd0>"
      ]
     },
     "execution_count": 19,
     "metadata": {},
     "output_type": "execute_result"
    },
    {
     "data": {
      "image/png": "[encoded data removed]",
      "text/plain": [
       "<Figure size 864x432 with 1 Axes>"
      ]
     },
     "metadata": {
      "needs_background": "light"
     },
     "output_type": "display_data"
    }
   ],
   "source": [
    "plt.figure(figsize = (12,6))\n",
    "plt.grid()\n",
    "plt.ylim(0, 1050)\n",
    "plt.xlabel('Observed Wavelength ' + r'[$\\AA$]')\n",
    "plt.ylabel('Flux Density [1E-17 erg/sec/'+r'$cm^2$/'+r'$\\AA$]')\n",
    "plt.title('MaNGA ID = ' + mangaid)\n",
    "plt.scatter(wave, sumflux, color = 'cornflowerblue')\n",
    "\n",
    "plt.xlim(5580,5620)\n",
    "plt.axhline(threshold)\n",
    "\n",
    "plt.scatter(wave[1881], sumflux[1881], facecolors = 'none', s = 150, color = 'red')\n",
    "plt.scatter(wave[1902], sumflux[1902], facecolors = 'none', s = 150, color = 'red')"
   ]
  },
  {
   "cell_type": "code",
   "execution_count": 20,
   "id": "technological-strike",
   "metadata": {},
   "outputs": [
    {
     "name": "stdout",
     "output_type": "stream",
     "text": [
      "(5584.701947368307, 203.18170495401137)\n",
      "(5611.771769773147, 201.2296138643287)\n"
     ]
    }
   ],
   "source": [
    "left_data = (wave[1881], sumflux[1881])\n",
    "right_data = (wave[1902], sumflux[1902])\n",
    "print(left_data)\n",
    "print(right_data)\n",
    "# As you can see here, the y axis of both points are not the same"
   ]
  },
  {
   "cell_type": "code",
   "execution_count": 23,
   "id": "organized-compensation",
   "metadata": {},
   "outputs": [
    {
     "data": {
      "text/plain": [
       "[<matplotlib.lines.Line2D at 0x7fc2e9f90790>]"
      ]
     },
     "execution_count": 23,
     "metadata": {},
     "output_type": "execute_result"
    },
    {
     "data": {
      "image/png": "[encoded data removed]",
      "text/plain": [
       "<Figure size 432x288 with 1 Axes>"
      ]
     },
     "metadata": {
      "needs_background": "light"
     },
     "output_type": "display_data"
    }
   ],
   "source": [
    "flux_header = data['FLUX'].header\n",
    "x_center = int(flux_header['CRPIX1']) - 1\n",
    "y_center = int(flux_header['CRPIX2']) - 1\n",
    "\n",
    "plt.plot(wave, flux[x_center, y_center])\n"
   ]
  },
  {
   "cell_type": "code",
   "execution_count": 27,
   "id": "rolled-management",
   "metadata": {},
   "outputs": [
    {
     "data": {
      "text/plain": [
       "array([11.234604 , 11.00428  , 11.17683  , ...,  2.7332976,  2.4263654,\n",
       "        0.       ], dtype=float32)"
      ]
     },
     "execution_count": 27,
     "metadata": {},
     "output_type": "execute_result"
    }
   ],
   "source": [
    "flux[x_center, y_center] * ~do_not_use[x_center, y_center]"
   ]
  },
  {
   "cell_type": "code",
   "execution_count": 28,
   "id": "nuclear-sound",
   "metadata": {},
   "outputs": [
    {
     "data": {
      "text/plain": [
       "numpy.ndarray"
      ]
     },
     "execution_count": 28,
     "metadata": {},
     "output_type": "execute_result"
    }
   ],
   "source": [
    "type(do_not_use[x_center, y_center])"
   ]
  },
  {
   "cell_type": "code",
   "execution_count": 29,
   "id": "exclusive-modern",
   "metadata": {},
   "outputs": [
    {
     "data": {
      "text/plain": [
       "numpy.ndarray"
      ]
     },
     "execution_count": 29,
     "metadata": {},
     "output_type": "execute_result"
    }
   ],
   "source": [
    "type(flux[x_center, y_center])"
   ]
  },
  {
   "cell_type": "code",
   "execution_count": null,
   "id": "painful-graphics",
   "metadata": {},
   "outputs": [],
   "source": []
  }
 ],
 "metadata": {
  "kernelspec": {
   "display_name": "Python 3",
   "language": "python",
   "name": "python3"
  },
  "language_info": {
   "codemirror_mode": {
    "name": "ipython",
    "version": 3
   },
   "file_extension": ".py",
   "mimetype": "text/x-python",
   "name": "python",
   "nbconvert_exporter": "python",
   "pygments_lexer": "ipython3",
   "version": "3.7.9"
  }
 },
 "nbformat": 4,
 "nbformat_minor": 5
}
