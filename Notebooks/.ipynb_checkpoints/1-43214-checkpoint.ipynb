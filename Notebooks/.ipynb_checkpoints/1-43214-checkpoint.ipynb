{
 "cells": [
  {
   "cell_type": "code",
   "execution_count": 1,
   "id": "municipal-tomorrow",
   "metadata": {},
   "outputs": [],
   "source": [
    "import numpy as np\n",
    "import matplotlib.pyplot as plt\n",
    "from astropy.io import fits\n",
    "from matplotlib import cm\n",
    "from io import StringIO\n",
    "import pandas as pd\n",
    "from scipy.optimize import curve_fit\n",
    "from scipy.integrate import quad\n",
    "# from scipy.special import factorial"
   ]
  },
  {
   "cell_type": "code",
   "execution_count": 2,
   "id": "gentle-generation",
   "metadata": {},
   "outputs": [],
   "source": [
    "mangaid = '1-43214'\n",
    "redshift = 0.117997\n",
    "plateifu = '8135-1902'"
   ]
  },
  {
   "cell_type": "code",
   "execution_count": 3,
   "id": "japanese-technical",
   "metadata": {},
   "outputs": [],
   "source": [
    "# open the file\n",
    "data = fits.open('/Users/natachaupra/Downloads/manga-8135-1902-LOGCUBE.fits.gz')"
   ]
  },
  {
   "cell_type": "code",
   "execution_count": 27,
   "id": "ready-marketplace",
   "metadata": {},
   "outputs": [],
   "source": [
    "flux = np.transpose(data['FLUX'].data, axes=(2, 1, 0))\n",
    "ivar = np.transpose(data['IVAR'].data, axes=(2, 1, 0))\n",
    "mask = np.transpose(data['MASK'].data, axes=(2, 1, 0))\n",
    "wave = data['WAVE'].data\n",
    "\n",
    "do_not_use = (mask & 2**10) != 0"
   ]
  },
  {
   "cell_type": "code",
   "execution_count": 63,
   "id": "welcome-department",
   "metadata": {},
   "outputs": [],
   "source": [
    "def r23(oii3727, oiii4959, oiii5007, hbeta4861):\n",
    "    return (oii3727 + oiii4959 + oiii5007) / hbeta4861"
   ]
  },
  {
   "cell_type": "code",
   "execution_count": 79,
   "id": "documented-cannon",
   "metadata": {},
   "outputs": [],
   "source": [
    "oii3727 = np.where(np.logical_and(wave > 4150, wave < 4180))\n",
    "oiii4959 = np.where(np.logical_and(wave > 5530, wave < 5555))\n",
    "oiii5007 = np.where(np.logical_and(wave > 5585, wave < 5615))\n",
    "hbeta4861 = np.where(np.logical_and(wave > 5400, wave < 5490))"
   ]
  },
  {
   "cell_type": "code",
   "execution_count": 80,
   "id": "temporal-adventure",
   "metadata": {},
   "outputs": [],
   "source": [
    "# Range for x in gaussian\n",
    "\n",
    "oii3727_range = (592, 622)\n",
    "oiii4959_range = (1839, 1857)\n",
    "oiii5007_range = (1882, 1904)\n",
    "hbeta4861_range = (1735, 1806)"
   ]
  },
  {
   "cell_type": "code",
   "execution_count": 64,
   "id": "fluid-sculpture",
   "metadata": {},
   "outputs": [],
   "source": [
    "# Mean in gaussian\n",
    "\n",
    "oii3727_lmd = 3727 * (1 + redshift)\n",
    "oiii4959_lmd = 4959 * (1 + redshift)\n",
    "oii5007_lmd = 5007 * (1 + redshift)\n",
    "hbeta4861_lmd = 4861 * (1 + redshift)"
   ]
  },
  {
   "cell_type": "code",
   "execution_count": 84,
   "id": "impaired-description",
   "metadata": {},
   "outputs": [],
   "source": [
    "# Initial values for amp in gaussian \n",
    "\n",
    "oii3727_amp = 350\n",
    "oiii4959_amp = 300\n",
    "oiii5007_amp = 650\n",
    "hbeta4861_amp = 450"
   ]
  },
  {
   "cell_type": "code",
   "execution_count": 85,
   "id": "vocal-nightmare",
   "metadata": {},
   "outputs": [],
   "source": [
    "# Initial values for base in gaussian \n",
    "\n",
    "oii3727_base = 250\n",
    "oiii4959_base = 150\n",
    "oiii5007_base = 180\n",
    "hbeta4861_base = 200"
   ]
  },
  {
   "cell_type": "code",
   "execution_count": 88,
   "id": "accepting-volunteer",
   "metadata": {},
   "outputs": [],
   "source": [
    "# Initial values for sigma in gaussian \n",
    "\n",
    "oii3727_sigma = 10\n",
    "oiii4959_sigma = 10\n",
    "oiii5007_sigma = 20\n",
    "hbeta4861_sigma = 20"
   ]
  },
  {
   "cell_type": "code",
   "execution_count": 200,
   "id": "actual-absorption",
   "metadata": {},
   "outputs": [],
   "source": [
    "def sigma_gen_compare(array, flux_masked):\n",
    "    \n",
    "    # change ivar array to sigma array \n",
    "    \n",
    "    sigma = np.sqrt(np.abs(np.divide(1, array, where = array != 0)))\n",
    "#     print(sigma)\n",
    "    \n",
    "    is_less_than_3sigma = flux_masked < 3 * sigma # compare the sigma array \n",
    "#     print(flux_masked)\n",
    "#     print(is_less_than_3sigma)\n",
    "        \n",
    "    flux_masked_filtered = flux_masked * ~is_less_than_3sigma # multiply the truth value\n",
    "    \n",
    "    return flux_masked_filtered"
   ]
  },
  {
   "cell_type": "code",
   "execution_count": 201,
   "id": "progressive-ensemble",
   "metadata": {},
   "outputs": [],
   "source": [
    "# gaussian = lambda x, amp, mean, sigma, base : (amp * np.exp(-(x-mean)**2 / (2*sigma**2))) + base"
   ]
  },
  {
   "cell_type": "code",
   "execution_count": 202,
   "id": "dramatic-swimming",
   "metadata": {},
   "outputs": [],
   "source": [
    "def gaussian(x, amp, mean, sigma, base):\n",
    "    return (amp * np.exp(-(x-mean)**2 / (2*sigma**2))) + base"
   ]
  },
  {
   "cell_type": "markdown",
   "id": "diagnostic-future",
   "metadata": {},
   "source": [
    "Could use gaussian fit with the following, but have to come up with a way to determine the initial values"
   ]
  },
  {
   "cell_type": "code",
   "execution_count": 205,
   "id": "violent-lancaster",
   "metadata": {},
   "outputs": [],
   "source": [
    "to_plot = []\n",
    "for i in range(len(flux)):\n",
    "    res = []\n",
    "    for j in range(len(flux[0])):\n",
    "# for i in range(17, 20):\n",
    "    \n",
    "#     for j in range(17, 20):\n",
    "        \n",
    "        flux_masked = flux[i,j] * ~do_not_use[i,j] # masking the array\n",
    "#         print(flux_masked)\n",
    "        \n",
    "        flux_masked_filtered = sigma_gen_compare(ivar[i,j], flux_masked) # get the filtered array\n",
    "        \n",
    "        # fit gaussian to the range of desired wavelength\n",
    "        \n",
    "        x = wave[oii3727_range[0] : oii3727_range[-1]]\n",
    "        y = flux_masked_filtered[oii3727_range[0] : oii3727_range[-1]]\n",
    "        \n",
    "#         p0 = [oii3727_amp, oii3727_lmd, oii3727_sigma, oii3727_base]\n",
    "        \n",
    "#         popt_oii3727, pcov_oii3727 = curve_fit(gaussian,x, y, p0 = p0)\n",
    "#         print(popt_oii3727)\n",
    "        \n",
    "#         plt.scatter(x,y)\n",
    "#         plt.plot(x, gaussian(x, *popt_oii3727))\n",
    "\n",
    "        \n",
    "        dlmd = (x[-1] - x[0])/len(x)\n",
    "        \n",
    "        area = (1/2)*(dlmd)*(y[0] + y[-1] + np.sum(2*(y[1:-1])))\n",
    "        \n",
    "        subtract = y[0] * (x[-1] - x[0])\n",
    "        \n",
    "        subtracted_area = area - subtract\n",
    "        \n",
    "        res.append(subtracted_area)\n",
    "#         print('res',res)\n",
    "        \n",
    "    to_plot.append(res)\n",
    "#     print('to_plot', to_plot)\n",
    "    \n",
    "#         area_g = quad(gaussian, oii3727_range[0], oii3727_range[-1], args = (popt_oii3727[0],\n",
    "#                                                                            popt_oii3727[1],\n",
    "#                                                                            popt_oii3727[2],\n",
    "#                                                                            popt_oii3727[3]))\n"
   ]
  },
  {
   "cell_type": "code",
   "execution_count": 207,
   "id": "joined-steering",
   "metadata": {},
   "outputs": [
    {
     "data": {
      "text/plain": [
       "<matplotlib.colorbar.Colorbar at 0x7fd6743fe050>"
      ]
     },
     "execution_count": 207,
     "metadata": {},
     "output_type": "execute_result"
    },
    {
     "data": {
      "image/png": "[encoded data removed]",
      "text/plain": [
       "<Figure size 576x576 with 2 Axes>"
      ]
     },
     "metadata": {
      "needs_background": "light"
     },
     "output_type": "display_data"
    }
   ],
   "source": [
    "plt.figure(figsize = (8,8))\n",
    "plt.imshow(to_plot, cmap = cm.plasma)\n",
    "plt.colorbar()"
   ]
  },
  {
   "cell_type": "code",
   "execution_count": null,
   "id": "laden-virus",
   "metadata": {},
   "outputs": [],
   "source": []
  }
 ],
 "metadata": {
  "kernelspec": {
   "display_name": "Python 3",
   "language": "python",
   "name": "python3"
  },
  "language_info": {
   "codemirror_mode": {
    "name": "ipython",
    "version": 3
   },
   "file_extension": ".py",
   "mimetype": "text/x-python",
   "name": "python",
   "nbconvert_exporter": "python",
   "pygments_lexer": "ipython3",
   "version": "3.7.9"
  }
 },
 "nbformat": 4,
 "nbformat_minor": 5
}
