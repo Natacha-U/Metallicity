{
 "cells": [
  {
   "cell_type": "code",
   "execution_count": 117,
   "id": "controlled-morris",
   "metadata": {},
   "outputs": [],
   "source": [
    "import numpy as np\n",
    "import matplotlib.pyplot as plt\n",
    "from astropy.io import fits\n",
    "from matplotlib import cm\n",
    "from io import StringIO\n",
    "import pandas as pd\n",
    "from scipy.optimize import curve_fit\n",
    "from scipy.integrate import quad"
   ]
  },
  {
   "cell_type": "code",
   "execution_count": 3,
   "id": "interracial-russell",
   "metadata": {},
   "outputs": [],
   "source": [
    "data = fits.open('/Users/natachaupra/Downloads/manga-8135-1902-LOGCUBE.fits.gz')"
   ]
  },
  {
   "cell_type": "code",
   "execution_count": 4,
   "id": "floral-semester",
   "metadata": {},
   "outputs": [],
   "source": [
    "flux = np.transpose(data['FLUX'].data, axes=(2, 1, 0))\n",
    "ivar = np.transpose(data['IVAR'].data, axes=(2, 1, 0))\n",
    "mask = np.transpose(data['MASK'].data, axes=(2, 1, 0))\n",
    "wave = data['WAVE'].data"
   ]
  },
  {
   "cell_type": "code",
   "execution_count": 5,
   "id": "backed-destiny",
   "metadata": {},
   "outputs": [],
   "source": [
    "mangaid = '1-43214'\n",
    "redshift = 0.117997\n",
    "plateifu = '8135-1902'"
   ]
  },
  {
   "cell_type": "code",
   "execution_count": 6,
   "id": "divided-madagascar",
   "metadata": {},
   "outputs": [],
   "source": [
    "do_not_use = (mask & 2**10) != 0 "
   ]
  },
  {
   "cell_type": "code",
   "execution_count": 181,
   "id": "pacific-navigation",
   "metadata": {},
   "outputs": [],
   "source": [
    "wave_5007 = 5007 * (1 + redshift)\n",
    "upper_b = 5615 # I changed this from 5630 so you don't have to slice y_ax (And tho lower_b too, from 5580 to 5583)\n",
    "lower_b = 5583"
   ]
  },
  {
   "cell_type": "code",
   "execution_count": 182,
   "id": "legendary-penetration",
   "metadata": {},
   "outputs": [],
   "source": [
    "def func(b, m, c):\n",
    "            a = (b - c)/m\n",
    "            return a"
   ]
  },
  {
   "cell_type": "code",
   "execution_count": 191,
   "id": "impossible-transsexual",
   "metadata": {
    "scrolled": false
   },
   "outputs": [],
   "source": [
    "OIII_5007 = []\n",
    "res = []\n",
    "for x in range (len(flux)): # to get the x pixel index\n",
    "    for y in range (len(flux[0])): # to get the y pixel index\n",
    "# for x in range(2, 4):\n",
    "#     for y in range(2, 4):\n",
    "        y_ax = np.where(np.logical_and(wave > lower_b, wave < upper_b))[0]    \n",
    "#         y_ax = y_ax[2:28]\n",
    "\n",
    "        flux_compare = np.array([]) \n",
    "        ivar_compare = np.array([])\n",
    "        mask_compare = np.array([])\n",
    "        result = []\n",
    "        sumresult = []\n",
    "\n",
    "        for i in y_ax:\n",
    "\n",
    "            flux_compare = np.append(flux_compare, flux[x,y,i])\n",
    "            ivar_compare = np.append(ivar_compare, ivar[x,y,i])\n",
    "            mask_compare = np.append(mask_compare, do_not_use[x,y,i])\n",
    "\n",
    "        for i in range(len(y_ax)): \n",
    "            sigma = np.sqrt(1 / ivar_compare[i]) if ivar_compare[i] != 0 else 0\n",
    "        \n",
    "            if flux_compare[i] < (3 * sigma):\n",
    "                result.append(0)\n",
    "            else:\n",
    "                result.append(flux_compare[i])\n",
    "            sumresult.append(np.sum(result))\n",
    "            result = []\n",
    "\n",
    "        index = np.where(y_ax == y_ax[-2])[0][0]\n",
    "\n",
    "\n",
    "        a = [wave[y_ax[-2]], wave[y_ax[-1]]]\n",
    "        b = [sumresult[index], sumresult[index + 1]]\n",
    "        \n",
    "#         print('a',a)\n",
    "#         print('b',b)\n",
    "\n",
    "        m = (b[1] - b[0])/(a[1] - a[0])\n",
    "#         print('m',m)\n",
    "\n",
    "        c = b[0] - m*a[0]\n",
    "    \n",
    "        if m == 0:\n",
    "            res.append(0)\n",
    "        else:\n",
    "            xval = func(sumresult[0], m, c)\n",
    "        # error encountered here when m is zero for flux density array where x, y are small.\n",
    "    \n",
    "            dlmd = []\n",
    "            \n",
    "            xcoord = list(wave[y_ax[0] : y_ax[-1]])\n",
    "            xcoord.append(xval)\n",
    "            xcoord = np.array(xcoord)\n",
    "\n",
    "            ycoord = sumresult[:-1]\n",
    "            ycoord.append(sumresult[0])\n",
    "            ycoord = np.array(ycoord)\n",
    "\n",
    "            for i in range(len(xcoord)-1):\n",
    "                dlmd.append(xcoord[i+1] - xcoord[i])\n",
    "\n",
    "            dlmd = np.array(dlmd)\n",
    "\n",
    "            area = ycoord[0] * dlmd[0] + ycoord[-1] * dlmd[-1]\n",
    "\n",
    "            for i in range(1, len(ycoord)-1):\n",
    "                area += ycoord[i] * (dlmd[i-1] + dlmd[i])\n",
    "\n",
    "            all_under = (1/2) * area\n",
    "\n",
    "            rectangle = ycoord[0] * (xcoord[-1] - xcoord[0])\n",
    "\n",
    "            flux_area_5007 = all_under - rectangle\n",
    "\n",
    "            res.append(flux_area_5007)\n",
    "\n",
    "    OIII_5007.append(res)\n",
    "    res = []"
   ]
  },
  {
   "cell_type": "code",
   "execution_count": 198,
   "id": "prospective-hygiene",
   "metadata": {},
   "outputs": [
    {
     "data": {
      "text/plain": [
       "Text(0.5, 1.0, '[OIII]5007 flux')"
      ]
     },
     "execution_count": 198,
     "metadata": {},
     "output_type": "execute_result"
    },
    {
     "data": {
      "image/png": "[encoded data removed]",
      "text/plain": [
       "<Figure size 432x432 with 1 Axes>"
      ]
     },
     "metadata": {
      "needs_background": "light"
     },
     "output_type": "display_data"
    }
   ],
   "source": [
    "plt.figure(figsize = (6,6))\n",
    "plt.imshow(OIII_5007)\n",
    "plt.title('[OIII]5007 flux')"
   ]
  },
  {
   "cell_type": "code",
   "execution_count": 115,
   "id": "manufactured-behalf",
   "metadata": {},
   "outputs": [
    {
     "data": {
      "text/plain": [
       "<matplotlib.collections.PathCollection at 0x7fe7b00abed0>"
      ]
     },
     "execution_count": 115,
     "metadata": {},
     "output_type": "execute_result"
    },
    {
     "data": {
      "image/png": "[encoded data removed]",
      "text/plain": [
       "<Figure size 432x288 with 1 Axes>"
      ]
     },
     "metadata": {
      "needs_background": "light"
     },
     "output_type": "display_data"
    }
   ],
   "source": [
    "plt.plot(wave[y_ax[0]:y_ax[-1]], flux[17,17][y_ax[0]: y_ax[-1]])\n",
    "plt.scatter(a, b)"
   ]
  },
  {
   "cell_type": "code",
   "execution_count": 116,
   "id": "possible-pakistan",
   "metadata": {},
   "outputs": [
    {
     "data": {
      "text/plain": [
       "[<matplotlib.lines.Line2D at 0x7fe7f263da90>]"
      ]
     },
     "execution_count": 116,
     "metadata": {},
     "output_type": "execute_result"
    },
    {
     "data": {
      "image/png": "[encoded data removed]",
      "text/plain": [
       "<Figure size 432x288 with 1 Axes>"
      ]
     },
     "metadata": {
      "needs_background": "light"
     },
     "output_type": "display_data"
    }
   ],
   "source": [
    "plt.plot(xcoord, ycoord)"
   ]
  },
  {
   "cell_type": "code",
   "execution_count": 119,
   "id": "occupied-zimbabwe",
   "metadata": {},
   "outputs": [],
   "source": [
    "def gaussian(x, amp, mean, sigma, base):\n",
    "    return (amp * np.exp(-(x-mean)**2 / (2*sigma**2))) + base"
   ]
  },
  {
   "cell_type": "code",
   "execution_count": 120,
   "id": "superb-reproduction",
   "metadata": {},
   "outputs": [],
   "source": [
    "popt, pcov = curve_fit(gaussian, xcoord, ycoord, p0 = [16, 5598, 15, 4])"
   ]
  },
  {
   "cell_type": "code",
   "execution_count": 132,
   "id": "promising-cheat",
   "metadata": {},
   "outputs": [
    {
     "data": {
      "text/plain": [
       "array([1.04184207e+01, 5.59767267e+03, 4.63176279e+00, 5.21802004e+00])"
      ]
     },
     "execution_count": 132,
     "metadata": {},
     "output_type": "execute_result"
    }
   ],
   "source": [
    "popt"
   ]
  },
  {
   "cell_type": "code",
   "execution_count": 121,
   "id": "chinese-agenda",
   "metadata": {},
   "outputs": [
    {
     "data": {
      "text/plain": [
       "[<matplotlib.lines.Line2D at 0x7fe7f28e0110>]"
      ]
     },
     "execution_count": 121,
     "metadata": {},
     "output_type": "execute_result"
    },
    {
     "data": {
      "image/png": "[encoded data removed]",
      "text/plain": [
       "<Figure size 432x288 with 1 Axes>"
      ]
     },
     "metadata": {
      "needs_background": "light"
     },
     "output_type": "display_data"
    }
   ],
   "source": [
    "plt.plot(xcoord, ycoord)\n",
    "plt.plot(xcoord, gaussian(xcoord, *popt))"
   ]
  },
  {
   "cell_type": "code",
   "execution_count": 137,
   "id": "assured-matrix",
   "metadata": {},
   "outputs": [
    {
     "data": {
      "text/plain": [
       "(381.8517693070263, 7.707089455522009e-08)"
      ]
     },
     "execution_count": 137,
     "metadata": {},
     "output_type": "execute_result"
    }
   ],
   "source": [
    "y = quad(gaussian, lower_b, upper_b, args = (popt[0], popt[1], popt[2], popt[3]))\n",
    "y"
   ]
  },
  {
   "cell_type": "code",
   "execution_count": 138,
   "id": "official-uncle",
   "metadata": {},
   "outputs": [
    {
     "data": {
      "text/plain": [
       "267.8517693070263"
      ]
     },
     "execution_count": 138,
     "metadata": {},
     "output_type": "execute_result"
    }
   ],
   "source": [
    "k = y[0]-(30*3.8)\n",
    "k"
   ]
  },
  {
   "cell_type": "code",
   "execution_count": null,
   "id": "tribal-ridge",
   "metadata": {},
   "outputs": [],
   "source": [
    "OIII_5007 = []\n",
    "res = []\n",
    "# for x in range (len(flux)): # to get the x pixel index\n",
    "#     for y in range (len(flux[0])): # to get the y pixel index\n",
    "for x in range(2, 4):\n",
    "    for y in range(2, 4):\n",
    "        y_ax = np.where(np.logical_and(wave > lower_b, wave < upper_b))[0]    \n",
    "        y_ax = y_ax[2:28]\n",
    "#         print('there', y_ax, len(y_ax))\n",
    "        \n",
    "        # you can start by making all of them an array to begin with, so no need for a conversion later\n",
    "        flux_compare = np.array([]) \n",
    "        ivar_compare = np.array([])\n",
    "        mask_compare = np.array([])\n",
    "        result = []\n",
    "        sumresult = []\n",
    "\n",
    "        for i in y_ax:\n",
    "            \n",
    "#             print(type(flux[x,y,i]), flux[x,y,i]) # if you see this line, flux[x,y,i] is already a float (of type\n",
    "            # numpy float32), so if you try to flatten() it, it will become an array.\n",
    "            # So essentially what you are doing in the line below is turning float into array and appending that \n",
    "            # array into flux_compare array\n",
    "#             flux_compare.append(flux[x,y,i].flatten())\n",
    "#             ivar_compare.append(ivar[x,y,i].flatten())\n",
    "#             mask_compare.append(do_not_use[x,y,i].flatten())\n",
    "\n",
    "\n",
    "            flux_compare = np.append(flux_compare, flux[x,y,i]) # this should do the job\n",
    "            ivar_compare = np.append(ivar_compare, ivar[x,y,i])\n",
    "            mask_compare = np.append(mask_compare, do_not_use[x,y,i])\n",
    "        print(flux_compare)\n",
    "\n",
    "#         flux_compare = np.array(flux_compare)\n",
    "#         ivar_compare = np.array(ivar_compare)\n",
    "#         mask_compare = np.array(mask_compare)\n",
    "    \n",
    "\n",
    "        \n",
    "        for i in range(len(y_ax)): \n",
    "            sigma = np.sqrt(1 / ivar_compare[i]) if ivar_compare[i] != 0 else 0\n",
    "        \n",
    "            if flux_compare[i] < (3 * sigma):\n",
    "                result.append(0)\n",
    "            else:\n",
    "                result.append(flux_compare[i])\n",
    "            sumresult.append(np.sum(result))\n",
    "            result = []\n",
    "#         print(sumresult)\n",
    "    \n",
    "        index = np.where(y_ax == y_ax[-2])[0][0] # Why are you finding this index ?\n",
    "#         print(index)\n",
    "\n",
    "        a = [wave[y_ax[-2]], wave[y_ax[-1]]]\n",
    "        b = [sumresult[index], sumresult[index + 1]]\n",
    "        \n",
    "#         print(a, b)\n",
    "\n",
    "#         m = (b[1] - b[0])/(b[1] - b[0])\n",
    "        m = (b[1] - b[0])/(a[1] - a[0])\n",
    "\n",
    "        c = b[0] - m*a[0]\n",
    "        \n",
    "#         print(m, c)\n",
    "        \n",
    "#         def func(b, m, c):\n",
    "#             a = (b - c)/m\n",
    "#             return a\n",
    "\n",
    "        xval = func(sumresult[0], m, c)\n",
    "#         print(xval)\n",
    "        \n",
    "#         xcoord = [] # Don't need this. Just slice the wave array and keep it in xcoord like below. \n",
    "#         ycoord = [] # Don't need this too. Same reason.\n",
    "        dlmd = []\n",
    "\n",
    "#         for i in range(y_ax[0], y_ax[-1]): # Since you can slice wave array, you don't need this loop anymore\n",
    "#             xcoord.append(wave[i])\n",
    "            \n",
    "        xcoord = list(wave[y_ax[0] : y_ax[-1]])\n",
    "        xcoord.append(xval)\n",
    "        xcoord = np.array(xcoord)\n",
    "        \n",
    "        ycoord = sumresult[:-1]\n",
    "        ycoord.append(sumresult[0])\n",
    "        ycoord = np.array(ycoord)\n",
    "    \n",
    "#         print('xcoord',xcoord, type(xcoord))\n",
    "#         print('ycoord',ycoord, type(ycoord))\n",
    "        \n",
    "        # You don't need this block anymore \n",
    "        \n",
    "#         xcoord.append(xval)\n",
    "#         print('xcoord', xcoord)\n",
    "#         ycoord = sumresult[:-1]\n",
    "#         print('ycoord', ycoord)\n",
    "#         ycoord.append(sumresult[0])\n",
    "#         print('ycoord', ycoord)\n",
    "\n",
    "        # you can do this method here, instead of the one below, to eliminate all the loops\n",
    "#         dlmd = (xcoord[-1] - xcoord[0])/len(xcoord)\n",
    "#         print(dlmd)\n",
    "\n",
    "#         area = (1/2)*(dlmd)*(ycoord[0] + ycoord[-1] + np.sum(2*(ycoord[1:-1])))\n",
    "#         print(area)\n",
    "        \n",
    "        for i in range(len(xcoord)-1):\n",
    "            dlmd.append(xcoord[i+1] - xcoord[i])\n",
    "#         print(dlmd)\n",
    "            \n",
    "        dlmd = np.array(dlmd)\n",
    "\n",
    "        area = ycoord[0] * dlmd[0] + ycoord[-1] * dlmd[-1]\n",
    "\n",
    "        for i in range(1, len(ycoord)-1):\n",
    "            area += ycoord[i] * (dlmd[i-1] + dlmd[i])\n",
    "\n",
    "        all_under = (1/2) * area\n",
    "\n",
    "        rectangle = ycoord[0] * (xcoord[-1] - xcoord[0])\n",
    "\n",
    "        flux_area_5007 = all_under - rectangle\n",
    "\n",
    "        res.append(flux_area_5007)\n",
    "\n",
    "    OIII_5007.append(res)\n",
    "    res = []\n",
    "        \n",
    "# print (len(OIII_5007))"
   ]
  }
 ],
 "metadata": {
  "kernelspec": {
   "display_name": "Python 3",
   "language": "python",
   "name": "python3"
  },
  "language_info": {
   "codemirror_mode": {
    "name": "ipython",
    "version": 3
   },
   "file_extension": ".py",
   "mimetype": "text/x-python",
   "name": "python",
   "nbconvert_exporter": "python",
   "pygments_lexer": "ipython3",
   "version": "3.7.9"
  }
 },
 "nbformat": 4,
 "nbformat_minor": 5
}
