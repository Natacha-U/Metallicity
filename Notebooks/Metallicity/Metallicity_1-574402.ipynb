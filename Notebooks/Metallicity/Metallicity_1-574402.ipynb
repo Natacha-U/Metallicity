{
 "cells": [
  {
   "cell_type": "code",
   "execution_count": 1,
   "id": "intimate-methodology",
   "metadata": {},
   "outputs": [],
   "source": [
    "import numpy as np\n",
    "import matplotlib.pyplot as plt\n",
    "from astropy.io import fits\n",
    "from matplotlib import cm\n",
    "from io import StringIO\n",
    "import pandas as pd\n",
    "from scipy.optimize import curve_fit\n",
    "from scipy.integrate import quad"
   ]
  },
  {
   "cell_type": "code",
   "execution_count": 2,
   "id": "southwest-antigua",
   "metadata": {},
   "outputs": [],
   "source": [
    "mangaid = '1-574402'\n",
    "redshift = 0.131997\n",
    "plateifu = '8137-3702'"
   ]
  },
  {
   "cell_type": "code",
   "execution_count": 3,
   "id": "common-respondent",
   "metadata": {},
   "outputs": [],
   "source": [
    "# open the file\n",
    "data = fits.open('/Users/natachaupra/Downloads/manga-8137-3702-LOGCUBE.fits.gz')"
   ]
  },
  {
   "cell_type": "code",
   "execution_count": 4,
   "id": "final-allen",
   "metadata": {},
   "outputs": [],
   "source": [
    "flux = np.transpose(data['FLUX'].data, axes=(2, 1, 0))\n",
    "ivar = np.transpose(data['IVAR'].data, axes=(2, 1, 0))\n",
    "mask = np.transpose(data['MASK'].data, axes=(2, 1, 0))\n",
    "wave = data['WAVE'].data\n",
    "\n",
    "do_not_use = (mask & 2**10) != 0"
   ]
  },
  {
   "cell_type": "code",
   "execution_count": 6,
   "id": "efficient-template",
   "metadata": {},
   "outputs": [],
   "source": [
    "oii3727 = np.where(np.logical_and(wave > 4210, wave < 4230))\n",
    "oiii4959 = np.where(np.logical_and(wave > 5610, wave < 5630)) \n",
    "oiii5007 = np.where(np.logical_and(wave > 5650, wave < 5690)) \n",
    "hbeta4861 = np.where(np.logical_and(wave > 5490, wave < 5520))\n",
    "# oii3727, oiii4959, oiii5007, hbeta4861"
   ]
  },
  {
   "cell_type": "code",
   "execution_count": 7,
   "id": "fallen-pennsylvania",
   "metadata": {},
   "outputs": [],
   "source": [
    "# Range for x in gaussian\n",
    "\n",
    "oii3727_range = (654, 674)\n",
    "oiii4959_range = (1901, 1916)\n",
    "oiii5007_range = (1932, 1962)\n",
    "hbeta4861_range = (1807, 1830)"
   ]
  },
  {
   "cell_type": "code",
   "execution_count": 8,
   "id": "promising-resolution",
   "metadata": {},
   "outputs": [],
   "source": [
    "def sigma_gen_compare(array, flux_masked):\n",
    "    \n",
    "    # change ivar array to sigma array \n",
    "    \n",
    "    sigma = np.sqrt(np.abs(np.divide(1, array, where = array != 0)))\n",
    "#     print(sigma)\n",
    "    \n",
    "    is_less_than_3sigma = flux_masked < 3 * sigma # compare the sigma array \n",
    "#     print(flux_masked)\n",
    "#     print(is_less_than_3sigma)\n",
    "        \n",
    "    flux_masked_filtered = flux_masked * ~is_less_than_3sigma # multiply the truth value\n",
    "    \n",
    "    return flux_masked_filtered"
   ]
  },
  {
   "cell_type": "code",
   "execution_count": 9,
   "id": "present-structure",
   "metadata": {},
   "outputs": [],
   "source": [
    "def gaussian(x, amp, mean, sigma, base):\n",
    "    return (amp * np.exp(-(x-mean)**2 / (2*sigma**2))) + base"
   ]
  },
  {
   "cell_type": "code",
   "execution_count": 10,
   "id": "loose-alignment",
   "metadata": {},
   "outputs": [],
   "source": [
    "oiix = wave[oii3727_range[0] : oii3727_range[-1]]\n",
    "# print('oiix', oiix)\n",
    "# print('oiiy', oiiy)\n",
    "\n",
    "oiiix1 = wave[oiii4959_range[0] : oiii4959_range[-1]]\n",
    "\n",
    "oiiix2 = wave[oiii5007_range[0] : oiii5007_range[-1]]\n",
    "\n",
    "hbetax = wave[hbeta4861_range[0] : hbeta4861_range[-1]]"
   ]
  },
  {
   "cell_type": "code",
   "execution_count": 11,
   "id": "expensive-census",
   "metadata": {},
   "outputs": [],
   "source": [
    "def area_finder(x, y):\n",
    "#     print('x',x)\n",
    "#     print('y',y)\n",
    "    dlmd = (x[-1] - x[0])/len(x)\n",
    "#     print(dlmd)\n",
    "        \n",
    "    area = (1/2)*(dlmd)*(y[0] + y[-1] + np.sum(2*(y[1:-1])))\n",
    "#     print('area', area)\n",
    "\n",
    "    subtract = y[0] * (x[-1] - x[0])\n",
    "\n",
    "    subtracted_area = area - subtract\n",
    "#     print(subtracted_area)\n",
    "    \n",
    "    return subtracted_area"
   ]
  },
  {
   "cell_type": "markdown",
   "id": "continuing-recipe",
   "metadata": {},
   "source": [
    "Change the method below to gaussian"
   ]
  },
  {
   "cell_type": "code",
   "execution_count": 12,
   "id": "double-sector",
   "metadata": {},
   "outputs": [],
   "source": [
    "to_plot = []\n",
    "to_plot_wo_hbeta = []\n",
    "\n",
    "for i in range(len(flux)):\n",
    "    \n",
    "    res = [] \n",
    "    res_wo_hbeta = []\n",
    "    \n",
    "    for j in range(len(flux[0])):\n",
    "\n",
    "        flux_masked = flux[i,j] * ~do_not_use[i,j] # masking the array\n",
    "        \n",
    "        flux_masked_filtered = sigma_gen_compare(ivar[i,j], flux_masked) \n",
    "        \n",
    "        oiiy = flux_masked_filtered[oii3727_range[0] : oii3727_range[-1]]\n",
    "        oii_subtracted_area = area_finder(oiix, oiiy)\n",
    "        \n",
    "        oiiiy1 = flux_masked_filtered[oiii4959_range[0] : oiii4959_range[-1]]\n",
    "        oiii1_subtracted_area = area_finder(oiiix1, oiiiy1)\n",
    "\n",
    "        oiiiy2 = flux_masked_filtered[oiii5007_range[0] : oiii5007_range[-1]]\n",
    "        oiii2_subtracted_area = area_finder(oiiix1, oiiiy2)\n",
    "        \n",
    "        hbetay = flux_masked_filtered[hbeta4861_range[0] : hbeta4861_range[-1]]\n",
    "        hbeta_subtracted_area = area_finder(hbetax, hbetay)\n",
    "\n",
    "        if(hbeta_subtracted_area != 0):\n",
    "            r23 = (oii_subtracted_area + oiii1_subtracted_area + oiii2_subtracted_area)/hbeta_subtracted_area\n",
    "            \n",
    "            if r23 > 0:\n",
    "                metallicity = 6.486 + (1.401 * np.log10(r23))\n",
    "                res.append(metallicity)\n",
    "            else:\n",
    "                res.append(0)\n",
    "                \n",
    "        else:\n",
    "            res.append(0)\n",
    "            \n",
    "    to_plot.append(res)\n",
    "    to_plot_wo_hbeta.append(res_wo_hbeta)"
   ]
  },
  {
   "cell_type": "code",
   "execution_count": 13,
   "id": "animal-planning",
   "metadata": {},
   "outputs": [],
   "source": [
    "# to_plot = np.ma.masked_where(to_plot == 0, to_plot, 'dtype = object')"
   ]
  },
  {
   "cell_type": "code",
   "execution_count": 15,
   "id": "matched-billion",
   "metadata": {},
   "outputs": [
    {
     "data": {
      "image/png": "[encoded data removed]",
      "text/plain": [
       "<Figure size 576x576 with 2 Axes>"
      ]
     },
     "metadata": {
      "needs_background": "light"
     },
     "output_type": "display_data"
    }
   ],
   "source": [
    "# print(to_plot)\n",
    "plt.figure(figsize = (8,8))\n",
    "plt.imshow(to_plot, cmap = cm.plasma)\n",
    "# plt.imshow(to_plot, cmap = cm.plasma)\n",
    "plt.title(f'Metallicity MaNGA ID {mangaid}')\n",
    "plt.colorbar()\n",
    "# plt.savefig('/Users/natachaupra/Desktop/Snr_Prj/Metallicity/Images/metallicity_{}'.format(mangaid),\n",
    "#             bbox_inches = 'tight')"
   ]
  },
  {
   "cell_type": "code",
   "execution_count": null,
   "id": "aware-calculator",
   "metadata": {},
   "outputs": [],
   "source": []
  },
  {
   "cell_type": "code",
   "execution_count": null,
   "id": "digital-stone",
   "metadata": {},
   "outputs": [],
   "source": []
  }
 ],
 "metadata": {
  "kernelspec": {
   "display_name": "Python 3",
   "language": "python",
   "name": "python3"
  },
  "language_info": {
   "codemirror_mode": {
    "name": "ipython",
    "version": 3
   },
   "file_extension": ".py",
   "mimetype": "text/x-python",
   "name": "python",
   "nbconvert_exporter": "python",
   "pygments_lexer": "ipython3",
   "version": "3.7.9"
  }
 },
 "nbformat": 4,
 "nbformat_minor": 5
}
