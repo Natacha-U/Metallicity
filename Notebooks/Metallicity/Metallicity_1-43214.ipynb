{
 "cells": [
  {
   "cell_type": "code",
   "execution_count": 1,
   "id": "intimate-methodology",
   "metadata": {},
   "outputs": [],
   "source": [
    "import numpy as np\n",
    "import matplotlib.pyplot as plt\n",
    "from astropy.io import fits\n",
    "from matplotlib import cm\n",
    "from io import StringIO\n",
    "import pandas as pd\n",
    "from scipy.optimize import curve_fit\n",
    "from scipy.integrate import quad\n",
    "# from scipy.special import factorial"
   ]
  },
  {
   "cell_type": "code",
   "execution_count": 2,
   "id": "southwest-antigua",
   "metadata": {},
   "outputs": [],
   "source": [
    "mangaid = '1-43214'\n",
    "redshift = 0.117997\n",
    "plateifu = '8135-1902'"
   ]
  },
  {
   "cell_type": "code",
   "execution_count": 3,
   "id": "common-respondent",
   "metadata": {},
   "outputs": [],
   "source": [
    "# open the file\n",
    "data = fits.open('/Users/natachaupra/Downloads/manga-8135-1902-LOGCUBE.fits.gz')"
   ]
  },
  {
   "cell_type": "code",
   "execution_count": 4,
   "id": "final-allen",
   "metadata": {},
   "outputs": [],
   "source": [
    "flux = np.transpose(data['FLUX'].data, axes=(2, 1, 0))\n",
    "ivar = np.transpose(data['IVAR'].data, axes=(2, 1, 0))\n",
    "mask = np.transpose(data['MASK'].data, axes=(2, 1, 0))\n",
    "wave = data['WAVE'].data\n",
    "\n",
    "do_not_use = (mask & 2**10) != 0"
   ]
  },
  {
   "cell_type": "code",
   "execution_count": 5,
   "id": "respective-bahamas",
   "metadata": {},
   "outputs": [],
   "source": [
    "def r23(oii3727, oiii4959, oiii5007, hbeta4861):\n",
    "    return (oii3727 + oiii4959 + oiii5007) / hbeta4861"
   ]
  },
  {
   "cell_type": "code",
   "execution_count": 6,
   "id": "efficient-template",
   "metadata": {},
   "outputs": [],
   "source": [
    "oii3727 = np.where(np.logical_and(wave > 4150, wave < 4180))\n",
    "oiii4959 = np.where(np.logical_and(wave > 5530, wave < 5555))\n",
    "oiii5007 = np.where(np.logical_and(wave > 5585, wave < 5615))\n",
    "hbeta4861 = np.where(np.logical_and(wave > 5400, wave < 5490))"
   ]
  },
  {
   "cell_type": "code",
   "execution_count": 7,
   "id": "fallen-pennsylvania",
   "metadata": {},
   "outputs": [],
   "source": [
    "# Range for x in gaussian\n",
    "\n",
    "oii3727_range = (592, 622)\n",
    "oiii4959_range = (1839, 1857)\n",
    "oiii5007_range = (1882, 1904)\n",
    "hbeta4861_range = (1735, 1806)"
   ]
  },
  {
   "cell_type": "code",
   "execution_count": 12,
   "id": "promising-resolution",
   "metadata": {},
   "outputs": [],
   "source": [
    "def sigma_gen_compare(array, flux_masked):\n",
    "    \n",
    "    # change ivar array to sigma array \n",
    "    \n",
    "    sigma = np.sqrt(np.abs(np.divide(1, array, where = array != 0)))\n",
    "#     print(sigma)\n",
    "    \n",
    "    is_less_than_3sigma = flux_masked < 3 * sigma # compare the sigma array \n",
    "#     print(flux_masked)\n",
    "#     print(is_less_than_3sigma)\n",
    "        \n",
    "    flux_masked_filtered = flux_masked * ~is_less_than_3sigma # multiply the truth value\n",
    "    \n",
    "    return flux_masked_filtered"
   ]
  },
  {
   "cell_type": "code",
   "execution_count": 13,
   "id": "particular-delight",
   "metadata": {},
   "outputs": [],
   "source": [
    "# gaussian = lambda x, amp, mean, sigma, base : (amp * np.exp(-(x-mean)**2 / (2*sigma**2))) + base"
   ]
  },
  {
   "cell_type": "code",
   "execution_count": 14,
   "id": "present-structure",
   "metadata": {},
   "outputs": [],
   "source": [
    "def gaussian(x, amp, mean, sigma, base):\n",
    "    return (amp * np.exp(-(x-mean)**2 / (2*sigma**2))) + base"
   ]
  },
  {
   "cell_type": "code",
   "execution_count": 15,
   "id": "loose-alignment",
   "metadata": {},
   "outputs": [],
   "source": [
    "oiix = wave[oii3727_range[0] : oii3727_range[-1]]\n",
    "# print('oiix', oiix)\n",
    "# print('oiiy', oiiy)\n",
    "\n",
    "oiiix1 = wave[oiii4959_range[0] : oiii4959_range[-1]]\n",
    "\n",
    "oiiix2 = wave[oiii5007_range[0] : oiii5007_range[-1]]\n",
    "\n",
    "hbetax = wave[hbeta4861_range[0] : hbeta4861_range[-1]]"
   ]
  },
  {
   "cell_type": "code",
   "execution_count": 16,
   "id": "expensive-census",
   "metadata": {},
   "outputs": [],
   "source": [
    "def area_finder(x, y):\n",
    "#     print('x',x)\n",
    "#     print('y',y)\n",
    "    dlmd = (x[-1] - x[0])/len(x)\n",
    "#     print(dlmd)\n",
    "        \n",
    "    area = (1/2)*(dlmd)*(y[0] + y[-1] + np.sum(2*(y[1:-1])))\n",
    "#     print('area', area)\n",
    "\n",
    "    subtract = y[0] * (x[-1] - x[0])\n",
    "\n",
    "    subtracted_area = area - subtract\n",
    "#     print(subtracted_area)\n",
    "    \n",
    "    return subtracted_area"
   ]
  },
  {
   "cell_type": "markdown",
   "id": "continuing-recipe",
   "metadata": {},
   "source": [
    "Change the method below to gaussian"
   ]
  },
  {
   "cell_type": "code",
   "execution_count": 34,
   "id": "double-sector",
   "metadata": {},
   "outputs": [],
   "source": [
    "to_plot = []\n",
    "#     to_plot_wo_hbeta = []\n",
    "\n",
    "for i in range(len(flux)):\n",
    "\n",
    "    res = [] \n",
    "    res_wo_hbeta = []\n",
    "\n",
    "    for j in range(len(flux[0])):\n",
    "\n",
    "        flux_masked = flux[i,j] * ~do_not_use[i,j] # masking the array\n",
    "\n",
    "        flux_masked_filtered = sigma_gen_compare(ivar[i,j], flux_masked) \n",
    "\n",
    "        oiiy = flux_masked_filtered[oii3727_range[0] : oii3727_range[-1]]\n",
    "        oii_subtracted_area = area_finder(oiix, oiiy)\n",
    "\n",
    "        oiiiy1 = flux_masked_filtered[oiii4959_range[0] : oiii4959_range[-1]]\n",
    "        oiii1_subtracted_area = area_finder(oiiix1, oiiiy1)\n",
    "\n",
    "        oiiiy2 = flux_masked_filtered[oiii5007_range[0] : oiii5007_range[-1]]\n",
    "        oiii2_subtracted_area = area_finder(oiiix1, oiiiy2)\n",
    "\n",
    "        hbetay = flux_masked_filtered[hbeta4861_range[0] : hbeta4861_range[-1]]\n",
    "        hbeta_subtracted_area = area_finder(hbetax, hbetay)\n",
    "\n",
    "        if(hbeta_subtracted_area != 0):\n",
    "            r23 = (oii_subtracted_area + oiii1_subtracted_area + oiii2_subtracted_area)/hbeta_subtracted_area\n",
    "\n",
    "            if r23 > 0:\n",
    "                metallicity = 6.486 + (1.401 * np.log10(r23))\n",
    "                res.append(metallicity)\n",
    "            else:\n",
    "                res.append(0)\n",
    "\n",
    "        else:\n",
    "            res.append(0)\n",
    "\n",
    "    to_plot.append(res)\n",
    "#         to_plot_wo_hbeta.append(res_wo_hbeta)"
   ]
  },
  {
   "cell_type": "code",
   "execution_count": 35,
   "id": "animal-planning",
   "metadata": {},
   "outputs": [],
   "source": [
    "# to_plot = np.ma.masked_where(to_plot == 0, to_plot, 'dtype = object')"
   ]
  },
  {
   "cell_type": "code",
   "execution_count": 40,
   "id": "matched-billion",
   "metadata": {},
   "outputs": [
    {
     "data": {
      "image/png": "[encoded data removed]",
      "text/plain": [
       "<Figure size 576x576 with 2 Axes>"
      ]
     },
     "metadata": {
      "needs_background": "light"
     },
     "output_type": "display_data"
    }
   ],
   "source": [
    "# print(to_plot)\n",
    "plt.figure(figsize = (8,8))\n",
    "plt.imshow(to_plot, cmap = cm.plasma,)\n",
    "# plt.imshow(to_plot, cmap = cm.plasma)\n",
    "plt.title(f'Metallicity MaNGA ID {mangaid}')\n",
    "plt.colorbar()\n",
    "# plt.savefig('/Users/natachaupra/Desktop/Snr_Prj/Metallicity/Images/metallicity_{}'.format(mangaid),\n",
    "#             bbox_inches = 'tight')"
   ]
  },
  {
   "cell_type": "code",
   "execution_count": null,
   "id": "passing-jacksonville",
   "metadata": {},
   "outputs": [],
   "source": []
  },
  {
   "cell_type": "code",
   "execution_count": 8,
   "id": "broken-oliver",
   "metadata": {},
   "outputs": [],
   "source": [
    "# Mean in gaussian\n",
    "\n",
    "oii3727_lmd = 3727 * (1 + redshift)\n",
    "oiii4959_lmd = 4959 * (1 + redshift)\n",
    "oii5007_lmd = 5007 * (1 + redshift)\n",
    "hbeta4861_lmd = 4861 * (1 + redshift)"
   ]
  },
  {
   "cell_type": "code",
   "execution_count": 9,
   "id": "bright-scope",
   "metadata": {},
   "outputs": [],
   "source": [
    "# Initial values for amp in gaussian \n",
    "\n",
    "oii3727_amp = 350\n",
    "oiii4959_amp = 300\n",
    "oiii5007_amp = 650\n",
    "hbeta4861_amp = 450"
   ]
  },
  {
   "cell_type": "code",
   "execution_count": 10,
   "id": "collaborative-binding",
   "metadata": {},
   "outputs": [],
   "source": [
    "# Initial values for base in gaussian \n",
    "\n",
    "oii3727_base = 250\n",
    "oiii4959_base = 150\n",
    "oiii5007_base = 180\n",
    "hbeta4861_base = 200"
   ]
  },
  {
   "cell_type": "code",
   "execution_count": 11,
   "id": "allied-entrance",
   "metadata": {},
   "outputs": [],
   "source": [
    "# Initial values for sigma in gaussian \n",
    "\n",
    "oii3727_sigma = 10\n",
    "oiii4959_sigma = 10\n",
    "oiii5007_sigma = 20\n",
    "hbeta4861_sigma = 20"
   ]
  },
  {
   "cell_type": "code",
   "execution_count": 20,
   "id": "adjacent-roads",
   "metadata": {},
   "outputs": [],
   "source": [
    "# to_plot = []\n",
    "# # for i in range(len(flux)):\n",
    "    \n",
    "# #     for j in range(len(flux[0])):\n",
    "# for i in range(17, 20):\n",
    "#     res = []\n",
    "#     for j in range(17, 20):\n",
    "        \n",
    "#         flux_masked = flux[i,j] * ~do_not_use[i,j] # masking the array\n",
    "# #         print(flux_masked)\n",
    "        \n",
    "#         flux_masked_filtered = sigma_gen_compare(ivar[i,j], flux_masked) # get the filtered array\n",
    "        \n",
    "#         # fit gaussian to the range of desired wavelength\n",
    "        \n",
    "#         x = wave[oii3727_range[0] : oii3727_range[-1]]\n",
    "#         y = flux_masked_filtered[oii3727_range[0] : oii3727_range[-1]]\n",
    "        \n",
    "# #         p0 = [oii3727_amp, oii3727_lmd, oii3727_sigma, oii3727_base]\n",
    "        \n",
    "# #         popt_oii3727, pcov_oii3727 = curve_fit(gaussian,x, y, p0 = p0)\n",
    "# #         print(popt_oii3727)\n",
    "        \n",
    "# #         plt.scatter(x,y)\n",
    "# #         plt.plot(x, gaussian(x, *popt_oii3727))\n",
    "            \n",
    "#         dlmd = (x[-1] - x[0])/len(x)\n",
    "        \n",
    "#         area = (1/2)*(dlmd)*(y[0] + y[-1] + np.sum(2*(y[1:-1])))\n",
    "\n",
    "#         subtract = y[0] * (x[-1] - x[0])\n",
    "\n",
    "#         subtracted_area = area - subtract\n",
    "        \n",
    "        \n",
    "#         res.append(subtracted_area)\n",
    "# #         print('res',res)\n",
    "        \n",
    "#     to_plot.append(res)\n",
    "# #     print('to_plot', to_plot)\n",
    "    \n",
    "# #         area_g = quad(gaussian, oii3727_range[0], oii3727_range[-1], args = (popt_oii3727[0],\n",
    "# #                                                                            popt_oii3727[1],\n",
    "# #                                                                            popt_oii3727[2],\n",
    "# #                                                                            popt_oii3727[3]))\n"
   ]
  },
  {
   "cell_type": "code",
   "execution_count": null,
   "id": "digital-stone",
   "metadata": {},
   "outputs": [],
   "source": []
  }
 ],
 "metadata": {
  "kernelspec": {
   "display_name": "Python 3",
   "language": "python",
   "name": "python3"
  },
  "language_info": {
   "codemirror_mode": {
    "name": "ipython",
    "version": 3
   },
   "file_extension": ".py",
   "mimetype": "text/x-python",
   "name": "python",
   "nbconvert_exporter": "python",
   "pygments_lexer": "ipython3",
   "version": "3.7.9"
  }
 },
 "nbformat": 4,
 "nbformat_minor": 5
}
